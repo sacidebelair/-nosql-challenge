{
 "cells": [
  {
   "cell_type": "markdown",
   "id": "9a57c4c6",
   "metadata": {},
   "source": [
    "# Eat Safe, Love"
   ]
  },
  {
   "cell_type": "markdown",
   "id": "064ef857",
   "metadata": {},
   "source": [
    "## Part 1: Database and Jupyter Notebook Set Up"
   ]
  },
  {
   "cell_type": "markdown",
   "id": "664e3c1f",
   "metadata": {},
   "source": [
    "Import the data provided in the `establishments.json` file from your Terminal. Name the database `uk_food` and the collection `establishments`.\n",
    "\n",
    "Within this markdown cell, copy the line of text you used to import the data from your Terminal. This way, future analysts will be able to repeat your process.\n",
    "\n",
    "e.g.: Import the dataset with `YOUR IMPORT TEXT HERE`"
   ]
  },
  {
   "cell_type": "code",
   "execution_count": 9,
   "id": "3ecdd008",
   "metadata": {},
   "outputs": [],
   "source": [
    "# Import dependencies\n",
    "from pymongo import MongoClient\n",
    "from pprint import pprint"
   ]
  },
  {
   "cell_type": "code",
   "execution_count": 10,
   "id": "59390c4a",
   "metadata": {},
   "outputs": [],
   "source": [
    "# Create an instance of MongoClient\n",
    "mongo = MongoClient(port=27017)"
   ]
  },
  {
   "cell_type": "code",
   "execution_count": 11,
   "id": "7f9ececa",
   "metadata": {},
   "outputs": [
    {
     "name": "stdout",
     "output_type": "stream",
     "text": [
      "['admin', 'config', 'local', 'met', 'uk_food']\n"
     ]
    }
   ],
   "source": [
    "# confirm that our new database was created\n",
    "print(mongo.list_database_names())"
   ]
  },
  {
   "cell_type": "code",
   "execution_count": 12,
   "id": "71e373c1",
   "metadata": {},
   "outputs": [],
   "source": [
    "# assign the uk_food database to a variable name\n",
    "db = mongo['uk_food']"
   ]
  },
  {
   "cell_type": "code",
   "execution_count": 13,
   "id": "ef1b89ed",
   "metadata": {},
   "outputs": [
    {
     "name": "stdout",
     "output_type": "stream",
     "text": [
      "['establishments']\n"
     ]
    }
   ],
   "source": [
    "# review the collections in our new database\n",
    "print(db.list_collection_names())"
   ]
  },
  {
   "cell_type": "code",
   "execution_count": 14,
   "id": "18ab463c",
   "metadata": {},
   "outputs": [
    {
     "name": "stdout",
     "output_type": "stream",
     "text": [
      "['establishments']\n"
     ]
    }
   ],
   "source": [
    "# review the collections in our new database\n",
    "print(db.list_collection_names())"
   ]
  },
  {
   "cell_type": "code",
   "execution_count": 15,
   "id": "6a0d92df",
   "metadata": {},
   "outputs": [
    {
     "name": "stdout",
     "output_type": "stream",
     "text": [
      "{'AddressLine1': 'The Pines Garden',\n",
      " 'AddressLine2': 'Beach Road',\n",
      " 'AddressLine3': 'St Margarets Bay',\n",
      " 'AddressLine4': 'Kent',\n",
      " 'BusinessName': 'The Tea Room',\n",
      " 'BusinessType': 'Restaurant/Cafe/Canteen',\n",
      " 'BusinessTypeID': 1,\n",
      " 'ChangesByServerID': 0,\n",
      " 'Distance': 4587.362402580997,\n",
      " 'FHRSID': 551803,\n",
      " 'LocalAuthorityBusinessID': 'PI/000070948',\n",
      " 'LocalAuthorityCode': '182',\n",
      " 'LocalAuthorityEmailAddress': 'publicprotection@dover.gov.uk',\n",
      " 'LocalAuthorityName': 'Dover',\n",
      " 'LocalAuthorityWebSite': 'http://www.dover.gov.uk/',\n",
      " 'NewRatingPending': False,\n",
      " 'Phone': '',\n",
      " 'PostCode': 'CT15 6DZ',\n",
      " 'RatingDate': '2021-08-17T00:00:00',\n",
      " 'RatingKey': 'fhrs_5_en-gb',\n",
      " 'RatingValue': '5',\n",
      " 'RightToReply': '',\n",
      " 'SchemeType': 'FHRS',\n",
      " '_id': ObjectId('667372a4e30405b54377eebb'),\n",
      " 'geocode': {'latitude': '51.148133', 'longitude': '1.383298'},\n",
      " 'links': [{'href': 'https://api.ratings.food.gov.uk/establishments/551803',\n",
      "            'rel': 'self'}],\n",
      " 'meta': {'dataSource': None,\n",
      "          'extractDate': '0001-01-01T00:00:00',\n",
      "          'itemCount': 0,\n",
      "          'pageNumber': 0,\n",
      "          'pageSize': 0,\n",
      "          'returncode': None,\n",
      "          'totalCount': 0,\n",
      "          'totalPages': 0},\n",
      " 'scores': {'ConfidenceInManagement': 0, 'Hygiene': 0, 'Structural': 0}}\n"
     ]
    }
   ],
   "source": [
    "# review a document in the establishments collection\n",
    "pprint(db.establishments.find_one())"
   ]
  },
  {
   "cell_type": "code",
   "execution_count": 16,
   "id": "11c9f11b",
   "metadata": {},
   "outputs": [],
   "source": [
    "# assign the collection to a variable\n",
    "establishments = db['establishments']"
   ]
  },
  {
   "cell_type": "markdown",
   "id": "d5671434",
   "metadata": {},
   "source": [
    "## Part 2: Update the Database"
   ]
  },
  {
   "cell_type": "markdown",
   "id": "314bd884",
   "metadata": {},
   "source": [
    "1. An exciting new halal restaurant just opened in Greenwich, but hasn't been rated yet. The magazine has asked you to include it in your analysis. Add the following restaurant \"Penang Flavours\" to the database."
   ]
  },
  {
   "cell_type": "code",
   "execution_count": 17,
   "id": "c2da7648",
   "metadata": {},
   "outputs": [],
   "source": [
    "# Create a dictionary for the new restaurant data\n",
    "# Create a dictionary for the new restaurant data\n",
    "new_restaurant = {\n",
    "    \"BusinessName\": \"Penang Flavours\",\n",
    "    \"BusinessType\": \"Restaurant/Cafe/Canteen\",\n",
    "    \"BusinessTypeID\": \"\",\n",
    "    \"AddressLine1\": \"Penang Flavours\",\n",
    "    \"AddressLine2\": \"146A Plumstead Rd\",\n",
    "    \"AddressLine3\": \"London\",\n",
    "    \"AddressLine4\": \"\",\n",
    "    \"PostCode\": \"SE18 7DY\",\n",
    "    \"Phone\": \"\",\n",
    "    \"LocalAuthorityCode\": \"511\",\n",
    "    \"LocalAuthorityName\": \"Greenwich\",\n",
    "    \"LocalAuthorityWebSite\": \"http://www.royalgreenwich.gov.uk\",\n",
    "    \"LocalAuthorityEmailAddress\": \"health@royalgreenwich.gov.uk\",\n",
    "    \"scores\": {\n",
    "        \"Hygiene\": \"\",\n",
    "        \"Structural\": \"\",\n",
    "        \"ConfidenceInManagement\": \"\"\n",
    "    },\n",
    "    \"SchemeType\": \"FHRS\",\n",
    "    \"geocode\": {\n",
    "        \"longitude\": \"0.08384000\",\n",
    "        \"latitude\": \"51.49014200\"\n",
    "    },\n",
    "    \"RightToReply\": \"\",\n",
    "    \"Distance\": 4623.9723280747176,\n",
    "    \"NewRatingPending\": True\n",
    "}\n"
   ]
  },
  {
   "cell_type": "code",
   "execution_count": 18,
   "id": "a6e5cece",
   "metadata": {},
   "outputs": [],
   "source": [
    "# Insert the new restaurant into the collection\n",
    "# Insert the new restaurant into the collection\n",
    "result = establishments.insert_one(new_restaurant)\n"
   ]
  },
  {
   "cell_type": "code",
   "execution_count": 19,
   "id": "63bb10f9",
   "metadata": {},
   "outputs": [
    {
     "name": "stdout",
     "output_type": "stream",
     "text": [
      "Inserted document ID: 66743596903088279e44a4b0\n"
     ]
    }
   ],
   "source": [
    "# Check that the new restaurant was inserted\n",
    "# Check that the new restaurant was inserted\n",
    "print(\"Inserted document ID:\", result.inserted_id)\n"
   ]
  },
  {
   "cell_type": "markdown",
   "id": "0ef4395a",
   "metadata": {},
   "source": [
    "2. Find the BusinessTypeID for \"Restaurant/Cafe/Canteen\" and return only the `BusinessTypeID` and `BusinessType` fields."
   ]
  },
  {
   "cell_type": "code",
   "execution_count": 22,
   "id": "93c63829",
   "metadata": {},
   "outputs": [
    {
     "name": "stdout",
     "output_type": "stream",
     "text": [
      "{'BusinessType': 'Restaurant/Cafe/Canteen', 'BusinessTypeID': 1}\n"
     ]
    }
   ],
   "source": [
    "# Find the BusinessTypeID for \"Restaurant/Cafe/Canteen\" and return only the BusinessTypeID and BusinessType fields\n",
    "query = { \"BusinessType\": \"Restaurant/Cafe/Canteen\" }\n",
    "projection = { \"_id\": 0, \"BusinessTypeID\": 1, \"BusinessType\": 1 }\n",
    "\n",
    "# Perform the query to find the BusinessTypeID for \"Restaurant/Cafe/Canteen\" with the specified projection\n",
    "result = establishments.find_one(query, projection)\n",
    "\n",
    "# Print the result\n",
    "if result:\n",
    "    print(result)\n",
    "else:\n",
    "    print(\"Business type not found.\")\n"
   ]
  },
  {
   "cell_type": "markdown",
   "id": "4e570caf",
   "metadata": {},
   "source": [
    "3. Update the new restaurant with the `BusinessTypeID` you found."
   ]
  },
  {
   "cell_type": "code",
   "execution_count": 23,
   "id": "7f599f3d",
   "metadata": {},
   "outputs": [
    {
     "name": "stdout",
     "output_type": "stream",
     "text": [
      "{'BusinessType': 'Restaurant/Cafe/Canteen', 'BusinessTypeID': 1}\n"
     ]
    }
   ],
   "source": [
    "# Update the new restaurant with the correct BusinessTypeID\n",
    "query = { \"BusinessType\": \"Restaurant/Cafe/Canteen\" }\n",
    "projection = { \"_id\": 0, \"BusinessTypeID\": 1, \"BusinessType\": 1 }\n",
    "\n",
    "# Perform the query to find the BusinessTypeID for \"Restaurant/Cafe/Canteen\" with the specified projection\n",
    "business_type_info = establishments.find_one(query, projection)\n",
    "\n",
    "# Print the result\n",
    "if business_type_info:\n",
    "    pprint(business_type_info)\n",
    "else:\n",
    "    print(\"Business type not found.\")\n"
   ]
  },
  {
   "cell_type": "code",
   "execution_count": 33,
   "id": "a6ad16f7",
   "metadata": {},
   "outputs": [
    {
     "name": "stdout",
     "output_type": "stream",
     "text": [
      "{'AddressLine1': 'Penang Flavours',\n",
      " 'AddressLine2': '146A Plumstead Rd',\n",
      " 'AddressLine3': 'London',\n",
      " 'AddressLine4': '',\n",
      " 'BusinessName': 'Penang Flavours',\n",
      " 'BusinessType': 'Restaurant/Cafe/Canteen',\n",
      " 'BusinessTypeID': '',\n",
      " 'Distance': 4623.972328074718,\n",
      " 'LocalAuthorityCode': '511',\n",
      " 'LocalAuthorityEmailAddress': 'health@royalgreenwich.gov.uk',\n",
      " 'LocalAuthorityName': 'Greenwich',\n",
      " 'LocalAuthorityWebSite': 'http://www.royalgreenwich.gov.uk',\n",
      " 'NewRatingPending': True,\n",
      " 'Phone': '',\n",
      " 'PostCode': 'SE18 7DY',\n",
      " 'RatingValue': None,\n",
      " 'RightToReply': '',\n",
      " 'SchemeType': 'FHRS',\n",
      " '_id': ObjectId('66743596903088279e44a4b0'),\n",
      " 'geocode': {'latitude': Decimal128('51.49014200'),\n",
      "             'longitude': Decimal128('0.08384000')},\n",
      " 'scores': {'ConfidenceInManagement': '', 'Hygiene': '', 'Structural': ''}}\n"
     ]
    }
   ],
   "source": [
    "# Confirm that the new restaurant was updated\n",
    "# Confirm that the new restaurant was updated\n",
    "updated_restaurant_data = establishments.find_one({\"BusinessName\": \"Penang Flavours\"})\n",
    "pprint(updated_restaurant_data)"
   ]
  },
  {
   "cell_type": "markdown",
   "id": "67281254",
   "metadata": {},
   "source": [
    "4. The magazine is not interested in any establishments in Dover, so check how many documents contain the Dover Local Authority. Then, remove any establishments within the Dover Local Authority from the database, and check the number of documents to ensure they were deleted."
   ]
  },
  {
   "cell_type": "code",
   "execution_count": 34,
   "id": "768474a6",
   "metadata": {},
   "outputs": [
    {
     "data": {
      "text/plain": [
       "0"
      ]
     },
     "execution_count": 34,
     "metadata": {},
     "output_type": "execute_result"
    }
   ],
   "source": [
    "# Find how many documents have LocalAuthorityName as \"Dover\"\n",
    "# Find how many documents have LocalAuthorityName as \"Dover\"\n",
    "dover_count = establishments.count_documents({\"LocalAuthorityName\": \"Dover\"})\n",
    "dover_count\n"
   ]
  },
  {
   "cell_type": "code",
   "execution_count": 35,
   "id": "a11d5f1b",
   "metadata": {},
   "outputs": [
    {
     "data": {
      "text/plain": [
       "DeleteResult({'n': 0, 'ok': 1.0}, acknowledged=True)"
      ]
     },
     "execution_count": 35,
     "metadata": {},
     "output_type": "execute_result"
    }
   ],
   "source": [
    "# Find how many documents have LocalAuthorityName as \"Dover\"\n",
    "dover_count = establishments.count_documents({\"LocalAuthorityName\": \"Dover\"})\n",
    "dover_count\n",
    "\n",
    "\n",
    "# Delete all documents where LocalAuthorityName is \"Dover\"\n",
    "delete_result = establishments.delete_many({\"LocalAuthorityName\": \"Dover\"})\n",
    "delete_result"
   ]
  },
  {
   "cell_type": "code",
   "execution_count": 36,
   "id": "2a51aba0",
   "metadata": {},
   "outputs": [
    {
     "data": {
      "text/plain": [
       "0"
      ]
     },
     "execution_count": 36,
     "metadata": {},
     "output_type": "execute_result"
    }
   ],
   "source": [
    "# Check if any remaining documents include Dover\n",
    "# Check if any remaining documents include Dover\n",
    "remaining = establishments.count_documents({\"LocalAuthorityName\": \"Dover\"})\n",
    "remaining"
   ]
  },
  {
   "cell_type": "code",
   "execution_count": 37,
   "id": "8c356f7b",
   "metadata": {},
   "outputs": [
    {
     "name": "stdout",
     "output_type": "stream",
     "text": [
      "{'AddressLine1': 'East Cliff Pavilion',\n",
      " 'AddressLine2': 'Wear Bay Road',\n",
      " 'AddressLine3': 'Folkestone',\n",
      " 'AddressLine4': 'Kent',\n",
      " 'BusinessName': 'The Pavilion',\n",
      " 'BusinessType': 'Restaurant/Cafe/Canteen',\n",
      " 'BusinessTypeID': 1,\n",
      " 'ChangesByServerID': 0,\n",
      " 'Distance': 4591.765489457773,\n",
      " 'FHRSID': 1043695,\n",
      " 'LocalAuthorityBusinessID': 'PI/000073616',\n",
      " 'LocalAuthorityCode': '188',\n",
      " 'LocalAuthorityEmailAddress': 'foodteam@folkestone-hythe.gov.uk',\n",
      " 'LocalAuthorityName': 'Folkestone and Hythe',\n",
      " 'LocalAuthorityWebSite': 'http://www.folkestone-hythe.gov.uk',\n",
      " 'NewRatingPending': False,\n",
      " 'Phone': '',\n",
      " 'PostCode': 'CT19 6BL',\n",
      " 'RatingDate': '2018-04-04T00:00:00',\n",
      " 'RatingKey': 'fhrs_5_en-gb',\n",
      " 'RatingValue': 5,\n",
      " 'RightToReply': '',\n",
      " 'SchemeType': 'FHRS',\n",
      " '_id': ObjectId('667372a4e30405b54377f1a0'),\n",
      " 'geocode': {'latitude': Decimal128('51.083812'),\n",
      "             'longitude': Decimal128('1.195625')},\n",
      " 'links': [{'href': 'https://api.ratings.food.gov.uk/establishments/1043695',\n",
      "            'rel': 'self'}],\n",
      " 'meta': {'dataSource': None,\n",
      "          'extractDate': '0001-01-01T00:00:00',\n",
      "          'itemCount': 0,\n",
      "          'pageNumber': 0,\n",
      "          'pageSize': 0,\n",
      "          'returncode': None,\n",
      "          'totalCount': 0,\n",
      "          'totalPages': 0},\n",
      " 'scores': {'ConfidenceInManagement': 5, 'Hygiene': 5, 'Structural': 5}}\n"
     ]
    }
   ],
   "source": [
    "# Check that other documents remain with 'find_one'\n",
    "# Check that other documents remain with 'find_one'\n",
    "remaining_document = establishments.find_one({\"LocalAuthorityName\": {\"$ne\": \"Dover\"}})\n",
    "# Print the result\n",
    "if remaining_document:\n",
    "    pprint(remaining_document)\n",
    "else:\n",
    "    print(\"No documents found.\")\n"
   ]
  },
  {
   "cell_type": "markdown",
   "id": "e9f1662d",
   "metadata": {},
   "source": [
    "5. Some of the number values are stored as strings, when they should be stored as numbers."
   ]
  },
  {
   "cell_type": "markdown",
   "id": "c46df2df",
   "metadata": {},
   "source": [
    "Use `update_many` to convert `latitude` and `longitude` to decimal numbers."
   ]
  },
  {
   "cell_type": "code",
   "execution_count": 38,
   "id": "fd4112ce",
   "metadata": {},
   "outputs": [
    {
     "name": "stdout",
     "output_type": "stream",
     "text": [
      "Number of documents modified for longitude: 0\n",
      "Number of documents modified for latitude: 0\n"
     ]
    },
    {
     "data": {
      "text/plain": [
       "UpdateResult({'n': 0, 'nModified': 0, 'ok': 1.0, 'updatedExisting': False}, acknowledged=True)"
      ]
     },
     "execution_count": 38,
     "metadata": {},
     "output_type": "execute_result"
    }
   ],
   "source": [
    "# Change the data type from String to Decimal for longitude and latitude\n",
    "# Change the data type from String to Decimal for longitude and latitude\n",
    "update_longitude = establishments.update_many(\n",
    "    {},\n",
    "    [{\"$set\": {\"geocode.longitude\": {\"$toDecimal\": \"$geocode.longitude\"}}}]\n",
    ")\n",
    "\n",
    "update_latitude = establishments.update_many(\n",
    "    {},\n",
    "    [{\"$set\": {\"geocode.latitude\": {\"$toDecimal\": \"$geocode.latitude\"}}}]\n",
    ")\n",
    "\n",
    "# Confirm the updates\n",
    "print(f\"Number of documents modified for longitude: {update_longitude.modified_count}\")\n",
    "print(f\"Number of documents modified for latitude: {update_latitude.modified_count}\")\n",
    "\n",
    "\n",
    "\n",
    "\n",
    "\n",
    "# Set non 1-5 Rating Values to Null\n",
    "non_ratings = [\"AwaitingInspection\", \"Awaiting Inspection\", \"AwaitingPublication\", \"Pass\", \"Exempt\"]\n",
    "establishments.update_many({\"RatingValue\": {\"$in\": non_ratings}}, [ {'$set':{ \"RatingValue\" : None}} ])\n"
   ]
  },
  {
   "cell_type": "markdown",
   "id": "142e319c",
   "metadata": {},
   "source": [
    "Use `update_many` to convert `RatingValue` to integer numbers."
   ]
  },
  {
   "cell_type": "code",
   "execution_count": 39,
   "id": "04430a5b",
   "metadata": {},
   "outputs": [
    {
     "data": {
      "text/plain": [
       "UpdateResult({'n': 0, 'nModified': 0, 'ok': 1.0, 'updatedExisting': False}, acknowledged=True)"
      ]
     },
     "execution_count": 39,
     "metadata": {},
     "output_type": "execute_result"
    }
   ],
   "source": [
    "# Set non 1-5 Rating Values to Null\n",
    "non_ratings = [\"AwaitingInspection\", \"Awaiting Inspection\", \"AwaitingPublication\", \"Pass\", \"Exempt\"]\n",
    "establishments.update_many({\"RatingValue\": {\"$in\": non_ratings}}, [ {'$set':{ \"RatingValue\" : None}} ])"
   ]
  },
  {
   "cell_type": "code",
   "execution_count": 40,
   "id": "92524ccc",
   "metadata": {},
   "outputs": [
    {
     "name": "stdout",
     "output_type": "stream",
     "text": [
      "Number of documents modified for RatingValue: 0\n"
     ]
    }
   ],
   "source": [
    "# Change the data type from String to Integer for RatingValue\n",
    "# Change the data type from String to Integer for RatingValue\n",
    "# Update RatingValue field to Integer type\n",
    "update_rating_value = establishments.update_many(\n",
    "    {},\n",
    "    [{\"$set\": {\"RatingValue\": {\"$toInt\": \"$RatingValue\"}}}]\n",
    ")\n",
    "\n",
    "# Confirm the update\n",
    "print(f\"Number of documents modified for RatingValue: {update_rating_value.modified_count}\")\n"
   ]
  },
  {
   "cell_type": "code",
   "execution_count": 32,
   "id": "0deacaf9",
   "metadata": {},
   "outputs": [
    {
     "name": "stdout",
     "output_type": "stream",
     "text": [
      "{'RatingValue': 5,\n",
      " '_id': ObjectId('667372a4e30405b54377f1a0'),\n",
      " 'geocode': {'latitude': Decimal128('51.083812'),\n",
      "             'longitude': Decimal128('1.195625')}}\n",
      "{'RatingValue': 4,\n",
      " '_id': ObjectId('667372a4e30405b54377f1a1'),\n",
      " 'geocode': {'latitude': Decimal128('51.086058'),\n",
      "             'longitude': Decimal128('1.196408')}}\n",
      "{'RatingValue': 5,\n",
      " '_id': ObjectId('667372a4e30405b54377f1a3'),\n",
      " 'geocode': {'latitude': Decimal128('51.085797'),\n",
      "             'longitude': Decimal128('1.194762')}}\n",
      "{'RatingValue': 5,\n",
      " '_id': ObjectId('667372a4e30405b54377f1a7'),\n",
      " 'geocode': {'latitude': Decimal128('51.08084'),\n",
      "             'longitude': Decimal128('1.188537')}}\n",
      "{'RatingValue': 5,\n",
      " '_id': ObjectId('667372a4e30405b54377f1a8'),\n",
      " 'geocode': {'latitude': Decimal128('51.08084'),\n",
      "             'longitude': Decimal128('1.188537')}}\n"
     ]
    }
   ],
   "source": [
    "# Check that the coordinates and rating value are now numbers\n",
    "# Check that the coordinates and rating value are now numbers\n",
    "# Retrieve a few documents to check their fields\n",
    "documents = establishments.find({}, {\"geocode.longitude\": 1, \"geocode.latitude\": 1, \"RatingValue\": 1}).limit(5)\n",
    "\n",
    "# Print the fields to confirm their data types\n",
    "for doc in documents:\n",
    "    pprint(doc)\n"
   ]
  },
  {
   "cell_type": "code",
   "execution_count": null,
   "id": "2cc68a6b",
   "metadata": {},
   "outputs": [],
   "source": []
  }
 ],
 "metadata": {
  "kernelspec": {
   "display_name": "Python 3 (ipykernel)",
   "language": "python",
   "name": "python3"
  },
  "language_info": {
   "codemirror_mode": {
    "name": "ipython",
    "version": 3
   },
   "file_extension": ".py",
   "mimetype": "text/x-python",
   "name": "python",
   "nbconvert_exporter": "python",
   "pygments_lexer": "ipython3",
   "version": "3.11.7"
  }
 },
 "nbformat": 4,
 "nbformat_minor": 5
}
